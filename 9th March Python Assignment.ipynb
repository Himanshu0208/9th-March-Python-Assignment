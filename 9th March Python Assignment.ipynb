{
 "cells": [
  {
   "cell_type": "markdown",
   "id": "a6e86481-0e80-4a75-85a5-b53f02f40247",
   "metadata": {},
   "source": [
    "# __Ques 1__\n",
    "__Probability Mass Function (PMF):__ It is a function which is used to calculate the values of a distribution which is descrete in nature, It is helpful for calculating teh value of teh probability for a particular point in the descrete distribution, Ex : Binomial distriution is descerete in nature hence the function for calulation the value of probability at any point x is a Probability Mass Function i.e., PMF and is given by P(x) = nCx * p^x * q^n-x\n",
    "<br><br>\n",
    "__Probability Density Function (PDF):__ It is a function which is used to calculate the values of a distribution which is continous in nature, It is helpful for calculating the value of the probability for a particular range in the continous distribution, EX : Normal distibution is continous in nature hence the function used for calculating the value of probability at any point x is a Probability Density Function (PDF) and is given by f(x) = (1/√(2πσ2)) (e[-(x-μ)^2]/2σ^2)."
   ]
  },
  {
   "cell_type": "markdown",
   "id": "34ba2e8c-9fff-4cb2-be0d-a8a069027cda",
   "metadata": {},
   "source": [
    "# __Ques 2__\n",
    "__Cumulative Density Function (CDF):__ A cumulative Density Function (CDF) is nothing but for every x it is the value of every P(x) for x = 0 to x = x in decrete distrubution or we can say that in a Probability Mass Function (PMF) while in Probability Density Function (PDF) its integration of f(x)dx from x = 0 to x =  x. It is genrally used to detremine the probabilty of that point includeing all previous point or wwe can say that it is used to calucute the probability of all X < point in the x axis. not only this it is also used to caluate the mode of a distribution as where the slopr is maximum that point will be the mode of the distribution<br><br>\n",
    "Ex- Suppose we have a random variable X that represents the outcome of rolling a fair six-sided die. The possible values for X are 1, 2, 3, 4, 5, and 6, each with a probability of 1/6.\n",
    "<br>\n",
    "The CDF for this random variable would be a function F(x) that gives the probability that X is less than or equal to x, for any value of x.\n",
    "<br>\n",
    "So, for example, if we want to know the probability that X is less than or equal to 3, we can use the CDF function to find F(3). Since the die is fair, the probability of rolling a value less than or equal to 3 is 3/6 or 1/2. Therefore, we would have:\n",
    "<br>\n",
    "F(3) = P(X ≤ 3) = 1/2"
   ]
  },
  {
   "cell_type": "markdown",
   "id": "f52a30ba-86df-43a8-b72f-0d106491b4e4",
   "metadata": {},
   "source": [
    "# __Ques 3__\n",
    "Normal distribution can be used to at some places where teh data is symmetric in nature for example the height of an indivudal for a particular city the weights of the individal for a partuluar city , even the total_tip in the tips data set is also normal.<br><br>\n",
    "The paramete of Normal distribution are &#956; and &#963; "
   ]
  },
  {
   "cell_type": "markdown",
   "id": "17fc03ab-10d8-448b-981f-7902bbc07f0c",
   "metadata": {},
   "source": [
    "# __Ques 4__\n",
    "Normal distribution, also known as the Gaussian distribution, is a very important concept in statistics and probability theory. It is a continuous probability distribution that is used to model many real-world phenomena, due to its many desirable properties. Some of the key properties of the normal distribution include:\n",
    "<br>\n",
    "1. It is symmetric around its mean value, which makes it easy to use and interpret.\n",
    "2. It has a well-defined mean and variance, which allows us to calculate probabilities and make predictions about future outcomes.\n",
    "3. It is bell-shaped, which means that the majority of data points are clustered around the mean value, and outliers are rare.\n",
    "<br><br>\n",
    "Here are a few real-life examples of normal distribution:\n",
    "1. __Heights of adult humans:__ The distribution of heights of adult humans in a population tends to follow a normal distribution, with most people clustered around the mean height and outliers at the extremes (very short or very tall).\n",
    "2. __IQ scores:__ Intelligence quotient (IQ) scores are often modeled using a normal distribution, with the mean score set at 100 and a standard deviation of 15.\n",
    "3. __Exam scores:__ In a large enough population, the distribution of exam scores tends to follow a normal distribution, with most scores clustered around the mean and outliers at the high and low ends of the spectrum."
   ]
  },
  {
   "cell_type": "markdown",
   "id": "3bf0c4c2-f7de-4b04-bc32-6b79c467f134",
   "metadata": {},
   "source": [
    "# __Ques 5__\n",
    "__Bernauli Distribution:__ A bernauli Distribution is a distribution in which there is two outcomes of an random experiment and also teh number of experiment is one here one of the outcome is sucess denoted by 1 and the other is failuer also denoted as 0.\n",
    "<Br>\n",
    "Ex: Suppose we toss a fair coin, and we are interested in the outcome of the toss. Let X be a random variable that represents the outcome of the toss. We can model X using the Bernoulli distribution, with the probability of success (i.e., getting heads) denoted by p and the probability of failure (i.e., getting tails) denoted by q = 1 - p.\n",
    "<br>\n",
    "In this case, p = q = 0.5, since the coin is fair and the probability of getting either heads or tails is equal.\n",
    "<br>\n",
    "The probability mass function (PMF) of the Bernoulli distribution is:\n",
    "<br>\n",
    "P(X = 1) = p\n",
    "P(X = 0) = q\n",
    "<br>\n",
    "So, in this case, the PMF is:\n",
    "<br>\n",
    "P(X = 1) = 0.5\n",
    "P(X = 0) = 0.5\n",
    "<br><br>\n",
    "Binomial is an extended case of the bernauli distribution in which there is n independent events occuring together instead of one event"
   ]
  },
  {
   "cell_type": "markdown",
   "id": "b5c058e8-4550-4950-995a-160013215b2e",
   "metadata": {},
   "source": [
    "# __Ques 6__"
   ]
  },
  {
   "cell_type": "code",
   "execution_count": 1,
   "id": "8a69026b-d658-4603-acd9-fdb88548aa79",
   "metadata": {},
   "outputs": [
    {
     "name": "stdout",
     "output_type": "stream",
     "text": [
      "The z value for x = 60 is 1.0\n",
      "The of less than 60 is 0.8413447460685429\n",
      "The of more than 60 is 0.15865525393145707\n"
     ]
    }
   ],
   "source": [
    "import scipy.stats as st\n",
    "\n",
    "x = 60\n",
    "mean = 50 \n",
    "std = 10\n",
    "\n",
    "z = (x - mean)/std\n",
    "print('The z value for x = 60 is',z)\n",
    "\n",
    "p = st.norm.cdf(z)\n",
    "print('The of less than 60 is',p)\n",
    "print('The of more than 60 is',1-p)"
   ]
  },
  {
   "cell_type": "markdown",
   "id": "1357335d-b16f-4dd0-8985-5e9d86047590",
   "metadata": {},
   "source": [
    "# __Ques 7__\n",
    "__Uniform Distribution:__ A uniform distribution is a probability distribution where the porbability of occuring any value of the data set is same and the pmf or pdf is always defined from (a,b). i.e., P(X=1) == P(X==2) == P(X=3) ... == P(X=n).\n",
    "<br><br>\n",
    "Uniform distribution is also subdivide in two:\n",
    "1. Descrete Unifrom Distribution : In  this distribution a probability mass function is defined and the value of that is 1/n for all x in data set where n is the number of values in the data set, ex = throwing a die and geting any number is always 1/6 for all [1,2,3,4,5,6] where n = 6.\n",
    "2. COntinous Unifrom Distribution : In  this distribution a probability Density function is defined and the value of that is 1/(b-a) for all x in data set where b > a and the function is defines in between (a , b)"
   ]
  },
  {
   "cell_type": "markdown",
   "id": "7e42c614-908c-43bd-999d-2cf856f27e94",
   "metadata": {},
   "source": [
    "# __Ques 8__\n",
    "The z-score, also known as the standard score, is a measure of how many standard deviations a given data point is away from the mean of a distribution. It is calculated by subtracting the mean from the data point and dividing the result by the standard deviation.\n",
    "<br><br>\n",
    "The z-score is important because it allows us to compare data points from different distributions that may have different means and standard deviations. By standardizing the data, we can compare the relative positions of data points in different distributions and draw conclusions about their significance.\n",
    "<br>\n",
    "The z-score is also used to calculate probabilities in a normal distribution. In a normal distribution, the majority of the data points fall within a certain range of the mean, based on the standard deviation. The z-score can be used to determine the probability of a data point falling within a certain range or above or below a certain threshold."
   ]
  },
  {
   "cell_type": "markdown",
   "id": "845d6f95-cfe3-480a-bae0-670dfb871397",
   "metadata": {},
   "source": [
    "# __Ques 9__\n",
    "__Central Limit Theorem:__ The central limit theorem says that the sampling distribution of the mean is always normally distributed, as long as teh sample is large enough. Regardless of whether the population is normal , possion , binomial or any other distribution. the sampling distribution of teh mean is normal\n",
    "<br><br>\n",
    "The significance of the Central Limit Theorem is that it provides a way to make inferences about a population based on a sample. In particular, the CLT allows us to:\n",
    "1. Estimate population parameters: We can estimate population parameters, such as the population mean or standard deviation, by computing the sample mean or standard deviation and assuming that the distribution of the sample means is normal.\n",
    "1. Conduct hypothesis tests: We can use the CLT to conduct hypothesis tests and make inferences about population parameters based on sample data. For example, we can test whether the mean of a sample is significantly different from the population mean.\n",
    "1. Make predictions: We can use the CLT to make predictions about the behavior of future samples. For example, we can use the CLT to predict the distribution of sample means for a large number of samples drawn from a population."
   ]
  },
  {
   "cell_type": "markdown",
   "id": "051a4ec9-e6ce-41a0-a218-cc197c0dc009",
   "metadata": {},
   "source": [
    "# __Ques 10__\n",
    "The centeral limit theroem assumes that the size of the sample is greater than or equal to 30."
   ]
  }
 ],
 "metadata": {
  "kernelspec": {
   "display_name": "Python 3 (ipykernel)",
   "language": "python",
   "name": "python3"
  },
  "language_info": {
   "codemirror_mode": {
    "name": "ipython",
    "version": 3
   },
   "file_extension": ".py",
   "mimetype": "text/x-python",
   "name": "python",
   "nbconvert_exporter": "python",
   "pygments_lexer": "ipython3",
   "version": "3.10.8"
  }
 },
 "nbformat": 4,
 "nbformat_minor": 5
}
